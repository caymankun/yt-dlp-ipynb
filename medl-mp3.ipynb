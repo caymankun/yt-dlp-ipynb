from google.colab import files
from datetime import datetime

youtube_url = "" #@param {type:"string"}

now = datetime.now()

formatted_now = now.strftime('%Y%m%d%H%M%S')

output_file_name = "youtube_output_"+formatted_now+".mp3";

!pip install yt-dlp
!yt-dlp -x --audio-format mp3 {youtube_url} --embed-thumbnail -o {output_file_name}

files.download(output_file_name)
