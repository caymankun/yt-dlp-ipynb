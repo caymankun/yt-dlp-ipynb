#@title YouTubeの動画URLを入力して、音声をmp3にしてダウンロードする
from google.colab import files
from datetime import datetime

youtube_url = "" #@param {type:"string"}


# 現在の日時を取得し、変数nowに代入
now = datetime.now()

# 現在時刻をyyyymmddhhiiss形式で表示
formatted_now = now.strftime('%Y%m%d%H%M%S')

# 出力ファイル名
output_file_name = "youtube_output_"+formatted_now+".mp4";

#@title YouTubeのmp3を取得
!pip install yt-dlp
!yt-dlp -x -f "bv*[ext=mp4]+ba[ext=m4a]/b[ext=mp4]" {youtube_url} -o {output_file_name}

# ファイル名を指定してダウンロードします
files.download(output_file_name)
